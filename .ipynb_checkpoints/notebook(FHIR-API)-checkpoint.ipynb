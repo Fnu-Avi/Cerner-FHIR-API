{
 "cells": [
  {
   "cell_type": "code",
   "execution_count": 1,
   "metadata": {},
   "outputs": [],
   "source": [
    "# One get request at a time and then when the data is retrieved in the json format; \n",
    "# then use json_to_csv.py file to convert that json to csv.\n",
    "\n",
    "# When the same thing is done for both the requests, I'll have json files and their corresponding csv files.\n",
    "\n",
    "# Now, the only task left is to combine the data from csv files to the one final csv file and clean it up if needed."
   ]
  },
  {
   "cell_type": "code",
   "execution_count": 98,
   "metadata": {},
   "outputs": [],
   "source": [
    "import requests\n",
    "import json\n",
    "# from pprint import pprint\n",
    "\n",
    "headers = {\n",
    "    'Accept': 'application/json+fhir',\n",
    "}\n",
    "\n",
    "params = (\n",
    "    ('date', '2017'),\n",
    "    ('patient', '4704007')\n",
    ")\n",
    "\n",
    "response = requests.get('https://fhir-open.sandboxcerner.com/dstu2/0b8a0111-e8e6-4c26-a91c-5069cbc6b1ca/Appointment', headers=headers, params=params).json()"
   ]
  },
  {
   "cell_type": "code",
   "execution_count": null,
   "metadata": {},
   "outputs": [],
   "source": [
    "import requests\n",
    "import json\n",
    "# from pprint import pprint\n",
    "\n",
    "headers = {\n",
    "    'Accept': 'application/json+fhir'\n",
    "}\n",
    "\n",
    "params = {\n",
    "    '-pageContext': 'H4sIAAAAAAAAAHWTTW/bMAyG/4vOzkBZomT71jU97FIUaA7Dhh60hGsFtHYgK8Wwov99+qDjoNsAA49JveJLCeKbcMfj5Mf4QmO8Jxf2T9fBRwreieFNHN0j3fvfJAaERvygRz9uXaSdf0kp0YK0Gwkb0DvoBoD0fQJIMaY/0QgaD3+p5abtd9APclWbqn6e9i76abyeDjSL4ftDk+yjT3192eZYW9AANqfD9OoPFGo+JQLN0ynsiRPvzeWpalIBoEXToO6l1djUuE9sEzuOVaWBzL7qpFxpMtFqm6lWGiby+sKcb6U12GjTlvVKk6hkjRXXba1FnZjjvsalTiavF7/MjvXAZB0WHfe91M3smDb7Ifsi91HOk2539UPJbJmq7i9+Sp7rF11my1x05Rx8H4rvR/F9ZXbMvrLWVVyP+1B8bmXP+6qPYh/FPvZcDxcd+yL7mqX+omNfw3UM92sks+zHc/+m5TjX01h9NL8bze9I8bsw6f7zKx3pV/z8z4kpMyBxkJJn4Juo8qvLVyuG5Y7Sg6dXP53mD+sbuS7d/G/Wsg9c+ASKzo90uPo4IQ9rsbs09lsfaJ/nMZW7vfm6S1uf3Hx3oRDDT/c8U8nfpu5rLoYTvf8BtvLy1lcEAAA=',\n",
    "    '-pageDirection': 'NEXT'\n",
    "}\n",
    "response = requests.get('https://fhir-open.sandboxcerner.com/dstu2/0b8a0111-e8e6-4c26-a91c-5069cbc6b1ca/Appointment', headers=headers, params=params).json()\n",
    "\n",
    "print(json.dumps(response, indent = 4, sort_keys = False))"
   ]
  },
  {
   "cell_type": "code",
   "execution_count": 96,
   "metadata": {
    "scrolled": true
   },
   "outputs": [],
   "source": [
    "# pprint(response.json())"
   ]
  },
  {
   "cell_type": "code",
   "execution_count": 101,
   "metadata": {},
   "outputs": [],
   "source": [
    "# print(json.dumps(response, indent = 4, sort_keys = False))"
   ]
  },
  {
   "cell_type": "code",
   "execution_count": 61,
   "metadata": {},
   "outputs": [],
   "source": [
    "f = open('data.json', \"w\")\n",
    "f.write(json.dumps(response))\n",
    "f.close()"
   ]
  }
 ],
 "metadata": {
  "kernelspec": {
   "display_name": "Python 3",
   "language": "python",
   "name": "python3"
  },
  "language_info": {
   "codemirror_mode": {
    "name": "ipython",
    "version": 3
   },
   "file_extension": ".py",
   "mimetype": "text/x-python",
   "name": "python",
   "nbconvert_exporter": "python",
   "pygments_lexer": "ipython3",
   "version": "3.7.4"
  }
 },
 "nbformat": 4,
 "nbformat_minor": 2
}
